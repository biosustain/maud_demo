{
 "cells": [
  {
   "cell_type": "markdown",
   "id": "b7ee2bdc",
   "metadata": {},
   "source": [
    "# How to analyse metabolic networks with Maud\n",
    "\n",
    "This document explains how to use [Maud](https://github.com/biosustain/Maud/) to fit Bayesian statistical models of steady-state metabolic networks, and how to investigate the results.\n",
    "\n",
    "## An example Maud input\n",
    "\n",
    "To start with we'll look through the files in one of the example datasets we have provided. \n",
    "\n",
    "You can find a discussion of the input data format in Maud's documentation [here](https://maud-metabolic-models.readthedocs.io/en/latest/usage/inputting.html), but this guide should be enough to get started.\n",
    "\n",
    "First let's check out the contents of the folder `data/in/linear` by running the first cell below."
   ]
  },
  {
   "cell_type": "code",
   "execution_count": 1,
   "id": "f4cd7a8a",
   "metadata": {},
   "outputs": [
    {
     "name": "stdout",
     "output_type": "stream",
     "text": [
      "config.toml             kinetic_model.toml      priors.csv\r\n",
      "experiments.csv         linear.json             true_params_linear.json\r\n"
     ]
    }
   ],
   "source": [
    "!ls data/in/linear"
   ]
  },
  {
   "cell_type": "markdown",
   "id": "62778a25",
   "metadata": {},
   "source": [
    "The most important of these files, and the only one whose name is important, is `config.toml`. This file tells Maud where to look for the other files it needs, and stores some configuration information that is passed on to Stan. \n",
    "\n",
    "Here is what our example config file looks like:"
   ]
  },
  {
   "cell_type": "code",
   "execution_count": 2,
   "id": "5a8ec619",
   "metadata": {},
   "outputs": [
    {
     "name": "stdout",
     "output_type": "stream",
     "text": [
      "name = \"linear\"\r\n",
      "kinetic_model = \"kinetic_model.toml\"\r\n",
      "priors = \"priors.csv\"\r\n",
      "experiments = \"experiments.csv\"\r\n",
      "likelihood = true\r\n",
      "\r\n",
      "[cmdstanpy_config]\r\n",
      "iter_warmup = 20\r\n",
      "iter_sampling = 20\r\n",
      "chains = 4\r\n",
      "save_warmup = true\r\n",
      "show_progress = \"notebook\"\r\n",
      "\r\n",
      "[ode_config]\r\n",
      "abs_tol_forward = 1e-4\r\n",
      "rel_tol_forward = 1e-4\r\n",
      "abs_tol_backward = 1e-4\r\n",
      "rel_tol_backward = 1e-4\r\n",
      "abs_tol_quadrature = 1e-4\r\n",
      "rel_tol_quadrature = 1e-4\r\n",
      "max_num_steps = 1e6\r\n",
      "timepoint = 1e3\r\n",
      "\r\n"
     ]
    }
   ],
   "source": [
    "!cat data/in/linear/config.toml"
   ]
  },
  {
   "cell_type": "markdown",
   "id": "3ab410ba",
   "metadata": {},
   "source": [
    "The first few lines of this file define top-level fields. These tell Maud where to look for the files it needs, and do some high level configuration (`name` picks a name for the input and `likelihood` tells Maud whether or not to run in priors-only mode).\n",
    "\n",
    "The second section defines a table called `cmdstanpy_config`. Each field here specifies a keyword argument to [cmdstanpy's `sample` method](https://cmdstanpy.readthedocs.io/en/v0.9.77/api.html#cmdstanpy.CmdStanModel.sample). In this case we tell Stan to run 4 markov chains, each of which should use 200 iterations in both its warmup and sampling phases, and to save both warmup and sampling draws in its output csv files.\n",
    "\n",
    "The fields in the final section specify tuning parameters for the Stan function [`ode_adjoint_tol_ctl`](https://mc-stan.org/docs/2_27/functions-reference/functions-ode-solver.html#adjoint-sensitivity-solver), except for `timepoint`, which tells Maud how long to simulate this function for.\n",
    "\n",
    "Now let's look at the other files in the folder, starting with `kinetic_model.toml`."
   ]
  },
  {
   "cell_type": "code",
   "execution_count": 3,
   "id": "53c81aa5",
   "metadata": {},
   "outputs": [
    {
     "name": "stdout",
     "output_type": "stream",
     "text": [
      "###### Kinetic model ######\r\n",
      "[[compartments]]\r\n",
      "id = 'c'\r\n",
      "name = 'cytosol'\r\n",
      "volume = 1\r\n",
      "\r\n",
      "[[compartments]]\r\n",
      "id = 'e'\r\n",
      "name = 'external'\r\n",
      "volume = 1\r\n",
      "\r\n",
      "[[metabolites]]\r\n",
      "id = 'M1'\r\n",
      "name = 'External metabolite number 1'\r\n",
      "balanced = false\r\n",
      "compartment = 'e'\r\n",
      "\r\n",
      "[[metabolites]]\r\n",
      "id = 'M2'\r\n",
      "name = 'External metabolite number 2'\r\n",
      "balanced = false\r\n",
      "compartment = 'e'\r\n",
      "\r\n",
      "[[metabolites]]\r\n",
      "id = 'M1'\r\n",
      "name = 'Metabolite number 1'\r\n",
      "balanced = true\r\n",
      "compartment = 'c'\r\n",
      "\r\n",
      "[[metabolites]]\r\n",
      "id = 'M2'\r\n",
      "name = 'Metabolite number 2'\r\n",
      "balanced = true\r\n",
      "compartment = 'c'\r\n",
      "\r\n",
      "[[reactions]]\r\n",
      "id = 'r1'\r\n",
      "name = 'reaction number 1'\r\n",
      "stoichiometry = { M1_e = -1, M1_c = 1}\r\n",
      "mechanism = \"reversible_modular_rate_law\"\r\n",
      "[[reactions.enzymes]]\r\n",
      "id = 'r1'\r\n",
      "name = 'the enzyme that catalyses reaction r1'\r\n",
      "[[reactions.enzymes.modifiers]]\r\n",
      "modifier_type = 'allosteric_activator'\r\n",
      "mic_id = 'M2_c'\r\n",
      "\r\n",
      "[[reactions]]\r\n",
      "id = 'r2'\r\n",
      "name = 'reaction number 2'\r\n",
      "stoichiometry = { M1_c = -1, M2_c = 1 }\r\n",
      "mechanism = \"reversible_modular_rate_law\"\r\n",
      "[[reactions.enzymes]]\r\n",
      "id = 'r2'\r\n",
      "name = 'the enzyme that catalyses reaction r2'\r\n",
      "[[reactions.enzymes.modifiers]]\r\n",
      "modifier_type = 'allosteric_inhibitor'\r\n",
      "mic_id = 'M1_c'\r\n",
      "[[reactions.enzymes.modifiers]]\r\n",
      "modifier_type = 'competitive_inhibitor'\r\n",
      "mic_id = 'M2_c'\r\n",
      "\r\n",
      "[[reactions]]\r\n",
      "id = 'r3'\r\n",
      "name = 'reaction number 3'\r\n",
      "stoichiometry = { M2_c = -1, M2_e = 1}\r\n",
      "mechanism = \"reversible_modular_rate_law\"\r\n",
      "[[reactions.enzymes]]\r\n",
      "id = 'r3'\r\n",
      "name = 'the enzyme that catalyses reaction r3'\r\n"
     ]
    }
   ],
   "source": [
    "!cat data/in/linear/kinetic_model.toml"
   ]
  },
  {
   "cell_type": "markdown",
   "id": "c7236135",
   "metadata": {},
   "source": [
    "This file consists of a table of `compartments`, a table of `metabolites` and a table of `reactions`."
   ]
  },
  {
   "cell_type": "markdown",
   "id": "7f7e6e6d",
   "metadata": {},
   "source": [
    "## Step 1: check the initial conditions\n",
    "\n",
    "Rather than going straight ahead and sampling, we usually prefer to run a single, fixed-parameter HMC iteration at the initial parameter values and inspect the results before proceeding futher, using the command `maud\n",
    "simulate`. By default Maud initialises at the prior mean, but initial values can also be specified.\n",
    "\n",
    "The main reason for running `maud simulate` before sampling is to quickly catch cases where the sampler has difficulty traversing the posterior distribution early in the run. This might be due to an error in the provided input data, in which case it is quite likely that the printed output will be weird in a way that makes it easier to track down the problem. Alternatively, it could be that the prior mean happens to be near a natural saddle point or other tricky part of the posterior distribution. In this case it might be necessary to specify custom initial values."
   ]
  },
  {
   "cell_type": "code",
   "execution_count": 4,
   "id": "4bc5c9b8",
   "metadata": {},
   "outputs": [
    {
     "name": "stdout",
     "output_type": "stream",
     "text": [
      "Creating output directory: data/out/maud_output_sim-linear-20210914220230\n",
      "Copying user input from data/in/linear to data/out/maud_output_sim-linear-20210914220230/user_input\n",
      "INFO:cmdstanpy:found newer exe file, not recompiling\n",
      "INFO:cmdstanpy:compiled model file: /Users/tedgro/Code/Maud/src/maud/model\n",
      "INFO:cmdstanpy:start chain 1\n",
      "INFO:cmdstanpy:finish chain 1\n",
      "\n",
      "Simulated concentrations and fluxes:\n",
      "experiments  mics\n",
      "condition_1  M1_c    0.086876\n",
      "             M1_e    0.100000\n",
      "             M2_c    0.107584\n",
      "             M2_e    0.100000\n",
      "condition_2  M1_c    0.086881\n",
      "             M1_e    0.100000\n",
      "             M2_c    0.107572\n",
      "             M2_e    0.100000\n",
      "Name: conc, dtype: float64\n",
      "experiments  reactions\n",
      "condition_1  r1           0.000628\n",
      "             r2           0.000628\n",
      "             r3           0.000628\n",
      "condition_2  r1           0.000628\n",
      "             r2           0.000629\n",
      "             r3           0.000627\n",
      "Name: flux, dtype: float64\n",
      "experiments  enzymes\n",
      "condition_1  r1         0.1\n",
      "             r2         0.1\n",
      "             r3         0.1\n",
      "condition_2  r1         0.1\n",
      "             r2         0.1\n",
      "             r3         0.1\n",
      "Name: conc_enzyme, dtype: float64\n",
      "\n",
      "Simulated measurements:\n",
      "yconcs\n",
      "condition_1-M1_c    0.095064\n",
      "condition_1-M1_e    0.099324\n",
      "condition_1-M2_c    0.103603\n",
      "condition_1-M2_e    0.097551\n",
      "condition_2-M1_c    0.094947\n",
      "condition_2-M1_e    0.102365\n",
      "condition_2-M2_c    0.097653\n",
      "condition_2-M2_e    0.107825\n",
      "Name: yconc_sim, dtype: float64\n",
      "yfluxs\n",
      "condition_1-r3   -0.126047\n",
      "condition_2-r3   -0.068971\n",
      "Name: yflux_sim, dtype: float64\n",
      "\n",
      "Simulated log likelihoods:\n",
      "yconcs\n",
      "condition_1-M1_c    -441.353\n",
      "condition_1-M1_e   -1793.500\n",
      "condition_1-M2_c    -328.158\n",
      "condition_1-M2_e   -1058.300\n",
      "condition_2-M1_c    -458.553\n",
      "condition_2-M1_e   -1793.500\n",
      "condition_2-M2_c    -309.372\n",
      "condition_2-M2_e   -1058.300\n",
      "Name: log_lik_conc, dtype: float64\n",
      "yfluxs\n",
      "condition_1-r3   -2.803160\n",
      "condition_2-r3   -0.808205\n",
      "Name: log_lik_flux, dtype: float64\n",
      "data/out/maud_output_sim-linear-20210914220230\n",
      "deleting tmpfiles dir: /var/folders/nw/nbg0t9fx0hvdhwlgwk2kb48wqkndw3/T/tmp9bvcqwl_\n",
      "done\n"
     ]
    }
   ],
   "source": [
    "!maud simulate data/in/linear --output_dir=\"data/out\""
   ]
  },
  {
   "cell_type": "markdown",
   "id": "1ed34aeb",
   "metadata": {},
   "source": [
    "## Step 2: generate posterior samples\n",
    "\n"
   ]
  },
  {
   "cell_type": "code",
   "execution_count": null,
   "id": "73132f2d",
   "metadata": {
    "scrolled": false
   },
   "outputs": [
    {
     "name": "stdout",
     "output_type": "stream",
     "text": [
      "Creating output directory: data/out/maud_output-linear-20210914220232\n",
      "Copying user input from data/in/linear to data/out/maud_output-linear-20210914220232/user_input\n",
      "INFO:cmdstanpy:found newer exe file, not recompiling\n",
      "INFO:cmdstanpy:compiled model file: /Users/tedgro/Code/Maud/src/maud/model\n",
      "HBox(children=(FloatProgress(value=0.0, description='Chain 1 - warmup', max=1.0, style=ProgressStyle(description_width='initial')), HTML(value='')))\n",
      "HBox(children=(FloatProgress(value=0.0, description='Chain 2 - warmup', max=1.0, style=ProgressStyle(description_width='initial')), HTML(value='')))\n",
      "HBox(children=(FloatProgress(value=0.0, description='Chain 3 - warmup', max=1.0, style=ProgressStyle(description_width='initial')), HTML(value='')))\n",
      "HBox(children=(FloatProgress(value=0.0, description='Chain 4 - warmup', max=1.0, style=ProgressStyle(description_width='initial')), HTML(value='')))\n",
      "\n",
      "\n"
     ]
    }
   ],
   "source": [
    "!maud sample data/in/linear --output_dir=\"data/out\""
   ]
  },
  {
   "cell_type": "markdown",
   "id": "5da602d6",
   "metadata": {},
   "source": [
    "## Step 3: analyse the samples\n",
    "\n"
   ]
  },
  {
   "cell_type": "code",
   "execution_count": null,
   "id": "8caf9baa",
   "metadata": {},
   "outputs": [],
   "source": []
  },
  {
   "cell_type": "markdown",
   "id": "7cdf0ff5",
   "metadata": {},
   "source": [
    "## Step 4: out-of-sample predictions"
   ]
  },
  {
   "cell_type": "code",
   "execution_count": null,
   "id": "ba5daba0",
   "metadata": {
    "session": "yes"
   },
   "outputs": [],
   "source": []
  }
 ],
 "metadata": {
  "kernelspec": {
   "display_name": "Python 3",
   "language": "python",
   "name": "python3"
  },
  "language_info": {
   "codemirror_mode": {
    "name": "ipython",
    "version": 3
   },
   "file_extension": ".py",
   "mimetype": "text/x-python",
   "name": "python",
   "nbconvert_exporter": "python",
   "pygments_lexer": "ipython3",
   "version": "3.7.2"
  }
 },
 "nbformat": 4,
 "nbformat_minor": 5
}
